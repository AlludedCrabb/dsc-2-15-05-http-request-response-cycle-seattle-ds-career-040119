{
 "cells": [
  {
   "cell_type": "markdown",
   "metadata": {},
   "source": [
    "# HTTP Request/Response Cycle - Codealong"
   ]
  },
  {
   "cell_type": "markdown",
   "metadata": {},
   "source": [
    "##  Introduction\n",
    "When developing a Web application as we saw in previous lesson, the request/response cycle is a useful guide to see how all the components of the app fit together. The request/response cycle traces how a user's request flows through the app. Understanding the request/response cycle is helpful to figure out which files to edit when developing an app (and where to look when things aren't working). This lesson will show how this setup works using python. \n",
    "\n",
    "## Objectives\n",
    "\n",
    "You will be able to: \n",
    "\n",
    "* Understand and explain the HTTP Request/Response cycle\n",
    "* Make http requests in Python using the ‘requests’ library\n"
   ]
  },
  {
   "cell_type": "markdown",
   "metadata": {},
   "source": [
    "## The `requests` Library in Python"
   ]
  },
  {
   "cell_type": "markdown",
   "metadata": {},
   "source": [
    "Dealing with HTTP requests could be a challenging task  any programming language. Python with two built-in modules, `urllib` and `urllib2` to handle these requests but these could be very confusing  and the documentation is not clear. This requires the programmer to write a lot of code to make even a simple HTTP request.\n",
    "\n",
    "To make these things simpler, one easy-to-use third-party library, known as` Requests`, is available and most developers prefer to use it instead or urllib/urllib2. It is an Apache2 licensed HTTP library powered by urllib3 and httplib. Requests is add-on library that allows you to send HTTP requests using Python. With this library, you can access content like web page headers, form data, files, and parameters via simple Python commands. It also allows you to access the response data in a simple way.\n",
    "\n",
    "![](logo.png)\n",
    "\n",
    "Below is how you would install and import the requests library before making any requests. \n",
    "```python\n",
    "# Uncomment and install requests if you dont have it already\n",
    "# !pip install requests\n",
    "\n",
    "# Import requests to working environment\n",
    "import requests\n",
    "```"
   ]
  },
  {
   "cell_type": "code",
   "execution_count": 3,
   "metadata": {},
   "outputs": [],
   "source": [
    "import requests"
   ]
  },
  {
   "cell_type": "markdown",
   "metadata": {},
   "source": [
    "## The `.get()` Method\n",
    "\n",
    "Now we have requests library ready in our working environment, we can start making some requests using the `.get()` method as shown below:\n",
    "```python\n",
    "### Making a request\n",
    "resp = requests.get('https://www.google.com')\n",
    "```"
   ]
  },
  {
   "cell_type": "code",
   "execution_count": 4,
   "metadata": {},
   "outputs": [],
   "source": [
    "resp = requests.get('https://www.google.com')"
   ]
  },
  {
   "cell_type": "code",
   "execution_count": 7,
   "metadata": {},
   "outputs": [
    {
     "data": {
      "text/plain": [
       "<Response [200]>"
      ]
     },
     "execution_count": 7,
     "metadata": {},
     "output_type": "execute_result"
    }
   ],
   "source": [
    "resp"
   ]
  },
  {
   "cell_type": "markdown",
   "metadata": {},
   "source": [
    "GET is by far the most used HTTP method. We can use GET request to retrieve data from any destination. \n",
    "\n",
    "## Status Codes\n",
    "The request we make may not be always successful. The best way is to check the status code which gets returned with the response. Here is how you would do this. \n",
    "```python\n",
    "# Check the returned status code\n",
    "resp.status_code == requests.codes.ok\n",
    "```"
   ]
  },
  {
   "cell_type": "code",
   "execution_count": 8,
   "metadata": {},
   "outputs": [
    {
     "data": {
      "text/plain": [
       "True"
      ]
     },
     "execution_count": 8,
     "metadata": {},
     "output_type": "execute_result"
    }
   ],
   "source": [
    "resp.status_code == requests.codes.ok"
   ]
  },
  {
   "cell_type": "markdown",
   "metadata": {},
   "source": [
    "So this is a good check to see if our request was successful. Depending on the status of the web server, the access rights of the clients and availibility of requested information. A web server may return a number of status codes within the response. Wikipedia has an exhaustive details on all these codes. [Check them out here](https://en.wikipedia.org/wiki/List_of_HTTP_status_codes)\n",
    "\n",
    "## Response Contents\n",
    "Once we know that our request was successful and we have a valid response, we can check the returned information using `.text` property of the response object. \n",
    "```python\n",
    "print (resp.text)\n",
    "```"
   ]
  },
  {
   "cell_type": "code",
   "execution_count": 10,
   "metadata": {
    "scrolled": true
   },
   "outputs": [
    {
     "data": {
      "text/plain": [
       "'<!doctype html><html itemscope=\"\" itemtype=\"http://schema.org/WebPage\" lang=\"en\"><head><meta content=\"Search the world\\'s information, including webpages, images, videos and more. Google has many special features to help you find exactly what you\\'re looking for.\" name=\"description\"><meta content=\"noodp\" name=\"robots\"><meta content=\"text/html; charset=UTF-8\" http-equiv=\"Content-Type\"><meta content=\"/images/branding/googleg/1x/googleg_standard_color_128dp.png\" itemprop=\"image\"><title>Google</title><script nonce=\"IhhlJeINm+QGILVljtjYNA==\">(function(){window.google={kEI:\\'x8XBXPXvN7P29AOCxLxI\\',kEXPI:\\'0,18168,183791,1151788,57,1958,2422,698,527,731,223,1575,1257,1894,17,40,350,178,351,666,9,217,411,6,22,2332890,329569,1294,12383,4855,32691,15248,867,12401,6143,3335,2,2,6801,369,3314,1262,4243,224,2212,266,5107,575,835,284,2,578,728,2432,58,2,1,3,1297,283,4041,3699,1268,773,2247,1410,3337,7,1139,5,2,2,1745,2813,3601,669,1050,1808,1397,81,7,1,2,488,620,29,1395,978,2632,1980,2110,1209,1288,2,400'"
      ]
     },
     "execution_count": 10,
     "metadata": {},
     "output_type": "execute_result"
    }
   ],
   "source": [
    "resp.text[:1000]"
   ]
  },
  {
   "cell_type": "markdown",
   "metadata": {},
   "source": [
    "So this returns a lot of information which by default is not really human understandable due to data encoding, HTML tags and other styling information that only a web browser can truly translate. In later lessons we shall look at how we can use ** Regular Exprerssions**  to clean this information and extract the required bits and pieces for analysis. \n",
    "\n",
    "## Response Headers\n",
    "The response of an HTTP request can contain many headers that holds different bits of information. We can use `.header` property of the response object to access the header information as shown below:\n",
    "\n",
    "```python\n",
    "# Read the header of the response - convert to dictionary for displaying k:v pairs neatly\n",
    "dict(resp.headers)\n",
    "```"
   ]
  },
  {
   "cell_type": "code",
   "execution_count": 14,
   "metadata": {},
   "outputs": [
    {
     "data": {
      "text/plain": [
       "{'Date': 'Thu, 25 Apr 2019 14:35:51 GMT',\n",
       " 'Expires': '-1',\n",
       " 'Cache-Control': 'private, max-age=0',\n",
       " 'Content-Type': 'text/html; charset=ISO-8859-1',\n",
       " 'P3P': 'CP=\"This is not a P3P policy! See g.co/p3phelp for more info.\"',\n",
       " 'Content-Encoding': 'gzip',\n",
       " 'Server': 'gws',\n",
       " 'X-XSS-Protection': '0',\n",
       " 'X-Frame-Options': 'SAMEORIGIN',\n",
       " 'Set-Cookie': '1P_JAR=2019-04-25-14; expires=Sat, 25-May-2019 14:35:51 GMT; path=/; domain=.google.com, NID=182=ojLm5ZJyeqcS_eI7xFeWDXS4Cyj7suYixspojZVLZDWe8cg4nPW0kpZYtD2MzaXnxIFNOovEPhEMDHnURPw7cQkaL5nGQxo4UJ0TnPC13HsG9-chrTMCZ6gv0quvxaZiBmn8m3lYXyvu4ZasWfg4fM1gUOV1ZDT2heULVPhyIqk; expires=Fri, 25-Oct-2019 14:35:51 GMT; path=/; domain=.google.com; HttpOnly',\n",
       " 'Alt-Svc': 'quic=\":443\"; ma=2592000; v=\"46,44,43,39\"',\n",
       " 'Transfer-Encoding': 'chunked'}"
      ]
     },
     "execution_count": 14,
     "metadata": {},
     "output_type": "execute_result"
    }
   ],
   "source": [
    "dict(resp.headers)"
   ]
  },
  {
   "cell_type": "markdown",
   "metadata": {},
   "source": [
    "The content of the headers is our required element. You can see the key-value pairs holding various pieces of  information about the resource and request. Let's try to parse some of these values using the requests library:\n",
    "\n",
    "```python\n",
    "print(resp.headers['Content-Length'])  # length of the response\n",
    "print(resp.headers['Date'])  # Date the response was sent\n",
    "print(resp.headers['server'])   # Server type (google web service - GWS)\n",
    "```"
   ]
  },
  {
   "cell_type": "code",
   "execution_count": 17,
   "metadata": {},
   "outputs": [
    {
     "name": "stdout",
     "output_type": "stream",
     "text": [
      "text/html; charset=ISO-8859-1\n",
      "Thu, 25 Apr 2019 14:35:51 GMT\n",
      "gws\n"
     ]
    }
   ],
   "source": [
    "print(resp.headers['Content-Type'])\n",
    "print(resp.headers['Date'])\n",
    "print(resp.headers['server'])"
   ]
  },
  {
   "cell_type": "markdown",
   "metadata": {},
   "source": [
    "## Try `httpbin`\n",
    "`httpbin.org` is a popular website to test different HTTP operation and practice with request-response cycles. Let's use httpbin/get to analyse the response to a GET request. First of all, we shall find out the response header and inspect how it looks. \n",
    "\n",
    "```python\n",
    "r = requests.get('http://httpbin.org/get')\n",
    "\n",
    "response = r.json()  \n",
    "print(r.json())  \n",
    "print(response['args'])  \n",
    "print(response['headers'])  \n",
    "print(response['headers']['Accept'])  \n",
    "print(response['headers']['Accept-Encoding'])  \n",
    "print(response['headers']['Connection'])  \n",
    "print(response['headers']['Host'])  \n",
    "print(response['headers']['User-Agent'])  \n",
    "print(response['origin'])  \n",
    "print(response['url'])  \n",
    "```"
   ]
  },
  {
   "cell_type": "code",
   "execution_count": 22,
   "metadata": {},
   "outputs": [],
   "source": [
    "import json"
   ]
  },
  {
   "cell_type": "code",
   "execution_count": 27,
   "metadata": {},
   "outputs": [
    {
     "name": "stdout",
     "output_type": "stream",
     "text": [
      "{'args': {}, 'headers': {'Accept': '*/*', 'Accept-Encoding': 'gzip, deflate', 'Host': 'httpbin.org', 'User-Agent': 'python-requests/2.19.1'}, 'origin': '157.230.156.76, 157.230.156.76', 'url': 'https://httpbin.org/get'} \n",
      "\n",
      "{} \n",
      "\n",
      "{'Accept': '*/*', 'Accept-Encoding': 'gzip, deflate', 'Host': 'httpbin.org', 'User-Agent': 'python-requests/2.19.1'} \n",
      "\n",
      "*/* \n",
      "\n",
      "gzip, deflate \n",
      "\n",
      "httpbin.org \n",
      "\n",
      "python-requests/2.19.1 \n",
      "\n",
      "157.230.156.76, 157.230.156.76 \n",
      "\n",
      "https://httpbin.org/get\n"
     ]
    }
   ],
   "source": [
    "r = requests.get('http://httpbin.org/get')\n",
    "response = r.json()\n",
    "print(r.json(),'\\n')  \n",
    "print(response['args'],'\\n')  \n",
    "print(response['headers'],'\\n')  \n",
    "print(response['headers']['Accept'],'\\n')  \n",
    "print(response['headers']['Accept-Encoding'],'\\n')  \n",
    "\n",
    "print(response['headers']['Host'],'\\n')  \n",
    "print(response['headers']['User-Agent'],'\\n')  \n",
    "print(response['origin'],'\\n')  \n",
    "print(response['url'])\n",
    "\n"
   ]
  },
  {
   "cell_type": "markdown",
   "metadata": {},
   "source": [
    "Let's use `requests` object structure to parse the values of headers as we did above. \n",
    "\n",
    "```python\n",
    "print(r.headers['Access-Control-Allow-Credentials'])  \n",
    "print(r.headers['Access-Control-Allow-Origin'])  \n",
    "print(r.headers['CONNECTION'])  \n",
    "print(r.headers['content-length'])  \n",
    "print(r.headers['Content-Type'])  \n",
    "print(r.headers['Date'])  \n",
    "print(r.headers['server'])  \n",
    "print(r.headers['via'])  \n",
    "```"
   ]
  },
  {
   "cell_type": "code",
   "execution_count": 29,
   "metadata": {},
   "outputs": [
    {
     "name": "stdout",
     "output_type": "stream",
     "text": [
      "true\n",
      "*\n",
      "keep-alive\n",
      "185\n",
      "application/json\n",
      "Thu, 25 Apr 2019 14:45:31 GMT\n",
      "nginx\n"
     ]
    }
   ],
   "source": [
    "print(r.headers['Access-Control-Allow-Credentials'])  \n",
    "print(r.headers['Access-Control-Allow-Origin'])  \n",
    "print(r.headers['CONNECTION'])  \n",
    "print(r.headers['content-length'])  \n",
    "print(r.headers['Content-Type'])  \n",
    "print(r.headers['Date'])  \n",
    "print(r.headers['server'])  \n",
    "#print(r.headers['via'])"
   ]
  },
  {
   "cell_type": "markdown",
   "metadata": {},
   "source": [
    "## Passing Parameters in GET\n",
    "In some cases, you'll need to pass parameters along with your GET requests. These extra parameters usually take the the form of query strings added to the requested URL. To do this, we need to pass these values in the `params` parameter. Let's try to acces information from `httpbin` with some user information. \n",
    "\n",
    "Note: The user information is not getting authenticated at `httpbin` so any name/password will work fine. This is merely for practice. \n",
    "\n",
    "```python\n",
    "credentials = {'user_name': 'FlatironSchool', 'password': 'learnlovecode'}  \n",
    "r = requests.get('http://httpbin.org/get', params=credentials)\n",
    "\n",
    "print(r.url)  \n",
    "print(r.text)  \n",
    "```"
   ]
  },
  {
   "cell_type": "code",
   "execution_count": 30,
   "metadata": {},
   "outputs": [
    {
     "name": "stdout",
     "output_type": "stream",
     "text": [
      "http://httpbin.org/get?user_name=FlatironSchool&password=learnlovecode\n",
      "{\n",
      "  \"args\": {\n",
      "    \"password\": \"learnlovecode\", \n",
      "    \"user_name\": \"FlatironSchool\"\n",
      "  }, \n",
      "  \"headers\": {\n",
      "    \"Accept\": \"*/*\", \n",
      "    \"Accept-Encoding\": \"gzip, deflate\", \n",
      "    \"Host\": \"httpbin.org\", \n",
      "    \"User-Agent\": \"python-requests/2.19.1\"\n",
      "  }, \n",
      "  \"origin\": \"157.230.156.76, 157.230.156.76\", \n",
      "  \"url\": \"https://httpbin.org/get?user_name=FlatironSchool&password=learnlovecode\"\n",
      "}\n",
      "\n"
     ]
    }
   ],
   "source": [
    "credentials = {'user_name': 'FlatironSchool', 'password': 'learnlovecode'}  \n",
    "r = requests.get('http://httpbin.org/get', params=credentials)\n",
    "\n",
    "print(r.url)  \n",
    "print(r.text)"
   ]
  },
  {
   "cell_type": "markdown",
   "metadata": {},
   "source": [
    "## HTTP POST method \n",
    "\n",
    "Sometimes we need to send one or more files simultaneously to the server. For example, if a user is submitting a form and the form includes different fields for uploading files, like user profile picture, user resume, etc. Requests can handle multiple files on a single request. This can be achieved by putting the files to a list of tuples in the form (`field_name, file_info)`.\n",
    "\n",
    "\n",
    "```python\n",
    "import requests\n",
    "\n",
    "url = 'http://httpbin.org/post'  \n",
    "file_list = [  \n",
    "    ('image', ('fi.png', open('fi.png', 'rb'), 'image/png')),\n",
    "    ('image', ('fi2.jpeg', open('fi2.jpeg', 'rb'), 'image/png'))\n",
    "]\n",
    "\n",
    "r = requests.post(url, files=file_list)  \n",
    "print(r.text)  \n",
    "```"
   ]
  },
  {
   "cell_type": "code",
   "execution_count": 31,
   "metadata": {},
   "outputs": [
    {
     "name": "stdout",
     "output_type": "stream",
     "text": [
      "{\n",
      "  \"args\": {}, \n",
      "  \"data\": \"\", \n",
      "  \"files\": {\n",
      "    \"image\": \"data:image/png;base64,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\"\n",
      "  }, \n",
      "  \"form\": {}, \n",
      "  \"headers\": {\n",
      "    \"Accept\": \"*/*\", \n",
      "    \"Accept-Encoding\": \"gzip, deflate\", \n",
      "    \"Content-Length\": \"40790\", \n",
      "    \"Content-Type\": \"multipart/form-data; boundary=af381e8b16abc981f9af17fa6c3d6ad1\", \n",
      "    \"Host\": \"httpbin.org\", \n",
      "    \"User-Agent\": \"python-requests/2.19.1\"\n",
      "  }, \n",
      "  \"json\": null, \n",
      "  \"origin\": \"157.230.156.76, 157.230.156.76\", \n",
      "  \"url\": \"https://httpbin.org/post\"\n",
      "}\n",
      "\n"
     ]
    }
   ],
   "source": [
    "import requests\n",
    "\n",
    "url = 'http://httpbin.org/post'  \n",
    "file_list = [  \n",
    "    ('image', ('fi.png', open('fi.png', 'rb'), 'image/png')),\n",
    "    ('image', ('fi2.jpeg', open('fi2.jpeg', 'rb'), 'image/png'))\n",
    "]\n",
    "\n",
    "r = requests.post(url, files=file_list)  \n",
    "print(r.text)"
   ]
  },
  {
   "cell_type": "markdown",
   "metadata": {},
   "source": [
    "So this is a brief introduction to how you would send requests and get responses from a web server, while totally avoiding the web browser interface. Later we shall see how we can pick up the required data elements from the contents of the web page for analytical purpose. \n"
   ]
  },
  {
   "cell_type": "markdown",
   "metadata": {},
   "source": [
    "## Summary\n",
    "In this lesson, we provided an introduction to the `requests` library in python. We saw how to use the get method to send requests to web servers, check server status, look at the header elements of a web page and how to send extra parameters like user information. In the next lab, we shall look at  **POST** and the **GET** methods in action. "
   ]
  }
 ],
 "metadata": {
  "kernelspec": {
   "display_name": "Python 3",
   "language": "python",
   "name": "python3"
  },
  "language_info": {
   "codemirror_mode": {
    "name": "ipython",
    "version": 3
   },
   "file_extension": ".py",
   "mimetype": "text/x-python",
   "name": "python",
   "nbconvert_exporter": "python",
   "pygments_lexer": "ipython3",
   "version": "3.6.6"
  }
 },
 "nbformat": 4,
 "nbformat_minor": 2
}
